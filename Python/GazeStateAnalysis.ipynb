{
 "cells": [
  {
   "cell_type": "code",
   "execution_count": 1,
   "id": "12438967",
   "metadata": {},
   "outputs": [],
   "source": [
    "# This script performs analysis on gaze state classification\n",
    "\n",
    "# Plan: \n",
    "\n",
    "# metrics that don't distiguish between remote / collocated\n",
    "\n",
    "#  - proportion of time looking at other participants\n",
    "#  - proportion of time transitioning\n",
    "#  - proportion of time averting\n",
    "#  - glance duration\n",
    "#  - glance frequency\n",
    "#  - transition duration\n",
    "\n",
    "# metrics that are person dependent\n",
    "\n",
    "# - proportion of time looking at each other participant\n",
    "# - frequency of glances at other participants\n",
    "# - proportion of mutual gaze with other participants\n",
    "# - length of mutual gazes with other participants\n",
    "# - frequency of mutual gazes with other participants\n"
   ]
  },
  {
   "cell_type": "code",
   "execution_count": 2,
   "id": "027fd7b7",
   "metadata": {},
   "outputs": [],
   "source": [
    "import re\n",
    "import matplotlib.pyplot as plt\n",
    "from enum import Enum\n",
    "import os\n",
    "import statistics"
   ]
  },
  {
   "cell_type": "code",
   "execution_count": 3,
   "id": "2f1090a0",
   "metadata": {},
   "outputs": [
    {
     "name": "stdout",
     "output_type": "stream",
     "text": [
      "Found 64 files to process\n"
     ]
    }
   ],
   "source": [
    "#define location of data to process\n",
    "\n",
    "# data_dir=\"C:/Users/gary4/Documents/repos/Recording-And-Analysis-Plugin/Data/group0\"\n",
    "# data_dir=\"Z:/Gary/Research/APlausE-MR_MR4_CollaborativeTelepresenceStudy/gazeAnalysis/group0\"\n",
    "data_dir=\"Z:/builds/aplause-mr/UNITY_APP/aplause-mr-20240707-studystate-v1/gazeAnalysis\"\n",
    "\n",
    "# find all \"gaze_classification_results\" files\n",
    "files = os.listdir(data_dir)\n",
    "files_to_process = [f for f in files if \"gaze_classification_results.csv\" in f] \n",
    "\n",
    "print(\"Found \" + str(len(files_to_process)) + \" files to process\")\n"
   ]
  },
  {
   "cell_type": "code",
   "execution_count": 4,
   "id": "938c6d54",
   "metadata": {},
   "outputs": [],
   "source": [
    "# define some constants\n",
    "\n",
    "NUM_PARTICIPANTS = 4\n"
   ]
  },
  {
   "cell_type": "code",
   "execution_count": 5,
   "id": "d1beab37",
   "metadata": {},
   "outputs": [],
   "source": [
    "class GazeState(Enum):\n",
    "    TRANSITION = 0\n",
    "    LOCAL = 1\n",
    "    REMOTE_ADJACENT = 2\n",
    "    REMOTE_OPPOSITE = 3\n",
    "    AVERTED = 4\n",
    "    \n",
    "# Define colors for each GazeState\n",
    "gaze_state_colors = {\n",
    "    GazeState.TRANSITION: 'lightgray',\n",
    "    GazeState.LOCAL: 'limegreen',\n",
    "    GazeState.REMOTE_ADJACENT: 'yellow',\n",
    "    GazeState.REMOTE_OPPOSITE: 'cornflowerblue',\n",
    "    GazeState.AVERTED: 'black',\n",
    "}"
   ]
  },
  {
   "cell_type": "code",
   "execution_count": 32,
   "id": "df315abb",
   "metadata": {},
   "outputs": [],
   "source": [
    "# define some data structures for reading data\n",
    "\n",
    "class GazeClassification:\n",
    "\n",
    "    def __init__(self, desc):\n",
    "        self.times = []\n",
    "        self.values = []\n",
    "                \n",
    "        # find participant ID for gazer\n",
    "        participant_label_ends = [m.end() for m in re.finditer('Participant', desc)]\n",
    "        self.gazer = int(desc[participant_label_ends[0]])\n",
    "        \n",
    "    def add_value(self,time,value):\n",
    "        self.times.append(time)\n",
    "        self.values.append(GazeState(value))\n",
    "        \n",
    "    def GetGazeStateTotalDurations(self):\n",
    "        \n",
    "        state_durations = [0] * len(GazeState)\n",
    "        \n",
    "        for i in range(1, len(self.times)):\n",
    "\n",
    "            duration = self.times[i] - self.times[i - 1]\n",
    "            state = self.values[i - 1]\n",
    "            state_durations[state.value] += duration\n",
    "            \n",
    "        return state_durations\n",
    "    \n",
    "    def GetGazeStateDurationList(self):\n",
    "        \n",
    "#         duration_lists = [[]]*len(GazeState)\n",
    "        duration_lists = {state: [] for state in GazeState}\n",
    "\n",
    "        last_state = self.values[0]\n",
    "        state_start = self.times[0]\n",
    "        \n",
    "        for i in range(1, len(self.times)):\n",
    "            \n",
    "            state = self.values[i]\n",
    "            \n",
    "            if state != last_state:\n",
    "                duration_lists[last_state].append( self.times[i] - state_start )\n",
    "                state_start = self.times[i]\n",
    "            \n",
    "            last_state = state\n",
    "    \n",
    "        return duration_lists\n"
   ]
  },
  {
   "cell_type": "code",
   "execution_count": 33,
   "id": "3e6e981d",
   "metadata": {},
   "outputs": [],
   "source": [
    "# data structure for writing data\n",
    "\n",
    "class GazeAnalysisResult:\n",
    "    \n",
    "    def __init__(self, rec_file_name, participant_id):\n",
    "        \n",
    "        self.participant_id = participant_id\n",
    "        \n",
    "        # TODO determine group and trial from file name\n",
    "        self.trial = 0\n",
    "        self.group = 0\n",
    "        \n",
    "        # TODO determine conditions\n",
    "        self.avatar_condition = 0\n",
    "        self.audio_condition = 0\n",
    "        \n",
    "        "
   ]
  },
  {
   "cell_type": "code",
   "execution_count": 34,
   "id": "6e801f7d",
   "metadata": {},
   "outputs": [],
   "source": [
    "def ReadData(file_name):\n",
    "    file_path = data_dir + \"/\" + file_name\n",
    "    print(\"Processing file: \" + file_path)\n",
    "\n",
    "    classification_streams = []\n",
    "\n",
    "    f = open(file_path, \"r\")\n",
    "\n",
    "    while True:\n",
    "        line = f.readline()\n",
    "        if not line:\n",
    "            break\n",
    "\n",
    "        if line.startswith(\"AnalysisQuery\"):\n",
    "            classification_streams.append(GazeClassification(line))\n",
    "            \n",
    "        elif 'Threshold' in line or line.startswith('Time') or not line.strip():\n",
    "            pass\n",
    "\n",
    "        else:\n",
    "            in_data = line.split(',')\n",
    "\n",
    "            classification_streams[-1].add_value(float(in_data[0]), int(in_data[1]))\n",
    "\n",
    "    f.close()\n",
    "    return classification_streams\n",
    "    \n",
    "\n"
   ]
  },
  {
   "cell_type": "code",
   "execution_count": 35,
   "id": "c83f7904",
   "metadata": {},
   "outputs": [],
   "source": [
    "\n",
    "#  - proportion of time looking at other participants\n",
    "#  - proportion of time transitioning\n",
    "#  - proportion of time averting\n",
    "#  - glance duration\n",
    "#  - transition duration\n",
    "#  - glance frequency\n"
   ]
  },
  {
   "cell_type": "code",
   "execution_count": 48,
   "id": "e08d9977",
   "metadata": {},
   "outputs": [],
   "source": [
    "def ProcessFile(file_name):\n",
    "    \n",
    "    classification_streams = ReadData(file_name)\n",
    "\n",
    "    if len(classification_streams) != NUM_PARTICIPANTS:\n",
    "        raise RuntimeError(\"Found incorrect number of gaze classification streams\")\n",
    "    \n",
    "    for p in range(NUM_PARTICIPANTS):\n",
    "        result_struct = GazeAnalysisResult(file_name, p)\n",
    "\n",
    "        trial_length = classification_streams[p].times[-1]\n",
    "        \n",
    "        # get duration for which each state is held\n",
    "        state_durations = classification_streams[p].GetGazeStateTotalDurations()\n",
    "        state_duration_list = classification_streams[p].GetGazeStateDurationList()\n",
    "        \n",
    "        #  - proportion of time looking at other participants\n",
    "        gaze_others_pc = (state_durations[GazeState.LOCAL.value] \\\n",
    "                          + state_durations[GazeState.REMOTE_ADJACENT.value] \\\n",
    "                          + state_durations[GazeState.REMOTE_OPPOSITE.value]) \\\n",
    "                            / trial_length * 100.0;\n",
    "\n",
    "        #  - proportion of time transitioning\n",
    "        gaze_transition_pc = 100.0 * state_durations[GazeState.TRANSITION.value] / trial_length;\n",
    "        \n",
    "        #  - proportion of time averting        \n",
    "        gaze_avert_pc = 100.0 * state_durations[GazeState.AVERTED.value] / trial_length;\n",
    "\n",
    "        # - transition duration\n",
    "        gaze_transition_mean_duration_sec = statistics.mean(state_duration_list[GazeState.TRANSITION])\n",
    "    \n",
    "        # - glance duration\n",
    "        all_glance_durations = state_duration_list[GazeState.LOCAL] \\\n",
    "                                + state_duration_list[GazeState.REMOTE_ADJACENT] \\\n",
    "                                + state_duration_list[GazeState.REMOTE_OPPOSITE]\n",
    "        gaze_glance_mean_duration_sec = statistics.mean(all_glance_durations)\n",
    "        \n",
    "        #  - glance frequency\n",
    "        glance_per_min = len(all_glance_durations) / trial_length * 60\n",
    "        \n",
    "        \n",
    "        result_struct.gaze_others_pc = gaze_others_pc\n",
    "        result_struct.gaze_transition_pc = gaze_transition_pc\n",
    "        result_struct.gaze_avert_pc = gaze_avert_pc\n",
    "        result_struct.gaze_transition_mean_duration_sec = gaze_transition_mean_duration_sec\n",
    "        result_struct.gaze_glance_mean_duration_sec = gaze_glance_mean_duration_sec\n",
    "        result_struct.glance_per_min = glance_per_min\n",
    "        \n",
    "        \n",
    "        # TODO analysis for participant p\n",
    "        \n",
    "    \n",
    "    \n",
    "    \n",
    "    return result_struct\n",
    "            "
   ]
  },
  {
   "cell_type": "code",
   "execution_count": 49,
   "id": "f12a19b9",
   "metadata": {},
   "outputs": [
    {
     "name": "stdout",
     "output_type": "stream",
     "text": [
      "Processing file: Z:/builds/aplause-mr/UNITY_APP/aplause-mr-20240707-studystate-v1/gazeAnalysis/aplausemr_group0_date20240708_10_42_trial0_experimentcontroller_gaze_classification_results.csv\n"
     ]
    },
    {
     "data": {
      "text/plain": [
       "<__main__.GazeAnalysisResult at 0x1f83efd0650>"
      ]
     },
     "execution_count": 49,
     "metadata": {},
     "output_type": "execute_result"
    }
   ],
   "source": [
    "\n",
    "ProcessFile(files_to_process[0])\n",
    "\n",
    "\n"
   ]
  },
  {
   "cell_type": "code",
   "execution_count": null,
   "id": "fdc53a1a",
   "metadata": {},
   "outputs": [],
   "source": [
    "\n",
    "\n"
   ]
  },
  {
   "cell_type": "code",
   "execution_count": null,
   "id": "dc90adeb",
   "metadata": {},
   "outputs": [],
   "source": []
  }
 ],
 "metadata": {
  "kernelspec": {
   "display_name": "Python 3 (ipykernel)",
   "language": "python",
   "name": "python3"
  },
  "language_info": {
   "codemirror_mode": {
    "name": "ipython",
    "version": 3
   },
   "file_extension": ".py",
   "mimetype": "text/x-python",
   "name": "python",
   "nbconvert_exporter": "python",
   "pygments_lexer": "ipython3",
   "version": "3.11.5"
  }
 },
 "nbformat": 4,
 "nbformat_minor": 5
}
