{
 "cells": [
  {
   "cell_type": "code",
   "execution_count": 1,
   "id": "f049f73b",
   "metadata": {},
   "outputs": [],
   "source": [
    "# This script visualizes the output of a gaze interval query\n",
    "\n",
    "# The purpose of gaze interval queries is to determine whether each particiant is looking at one of the other participants, \n",
    "# looking away, or transitioning between one of the other states"
   ]
  },
  {
   "cell_type": "code",
   "execution_count": 2,
   "id": "f62b14d8",
   "metadata": {},
   "outputs": [],
   "source": [
    "import re\n",
    "import matplotlib.pyplot as plt"
   ]
  },
  {
   "cell_type": "code",
   "execution_count": 3,
   "id": "42f50935",
   "metadata": {},
   "outputs": [],
   "source": [
    "#define location of data to visualize\n",
    "\n",
    "# data_dir=\"C:/Users/gary4/Documents/repos/Recording-And-Analysis-Plugin/Data/group0\"\n",
    "data_dir=\"Z:/Gary/Research/APlausE-MR_MR4_CollaborativeTelepresenceStudy/gazeAnalysis/group0\"\n",
    "file_name=\"aplausemr_group0_date20240708_10_42_trial0_experimentcontroller_interval_requests_results.csv\"\n",
    "\n",
    "\n",
    "\n",
    "file_path = data_dir + \"/\" + file_name"
   ]
  },
  {
   "cell_type": "code",
   "execution_count": 4,
   "id": "f4150862",
   "metadata": {},
   "outputs": [],
   "source": [
    "# define some data structures for reading data\n",
    "\n",
    "class Interval:\n",
    "    def __init__(self, start, end):\n",
    "        self.start = start\n",
    "        self.end = end\n",
    "    def str(self):\n",
    "        return str(self.start) + \",\" + str(self.end)\n",
    "        \n",
    "class GazeIntervalResults:\n",
    "    def __init__(self, desc):\n",
    "        self.intervals = []\n",
    "        \n",
    "        # find participant numbers for gazer and gaze target\n",
    "        participant_label_ends = [m.end() for m in re.finditer('Participant', desc)]\n",
    "        self.gazer = int(desc[participant_label_ends[0]])\n",
    "        self.gaze_target = int(desc[participant_label_ends[1]])\n",
    "        \n",
    "    def add_interval(self,start,end):\n",
    "        self.intervals.append(Interval(start,end))\n",
    "        \n",
    "    def print_intervals(self):\n",
    "        for i in self.intervals:\n",
    "            print(i.str())"
   ]
  },
  {
   "cell_type": "code",
   "execution_count": 5,
   "id": "45132531",
   "metadata": {},
   "outputs": [
    {
     "ename": "FileNotFoundError",
     "evalue": "[Errno 2] No such file or directory: 'Z:/Gary/Research/APlausE-MR_MR4_CollaborativeTelepresenceStudy/gazeAnalysis/group0/aplausemr_group0_date20240708_10_42_trial0_experimentcontroller_interval_requests_results.csv'",
     "output_type": "error",
     "traceback": [
      "\u001b[1;31m---------------------------------------------------------------------------\u001b[0m",
      "\u001b[1;31mFileNotFoundError\u001b[0m                         Traceback (most recent call last)",
      "Cell \u001b[1;32mIn[5], line 5\u001b[0m\n\u001b[0;32m      1\u001b[0m \u001b[38;5;66;03m# read data into structures\u001b[39;00m\n\u001b[0;32m      3\u001b[0m results \u001b[38;5;241m=\u001b[39m []\n\u001b[1;32m----> 5\u001b[0m f \u001b[38;5;241m=\u001b[39m \u001b[38;5;28mopen\u001b[39m(file_path, \u001b[38;5;124m\"\u001b[39m\u001b[38;5;124mr\u001b[39m\u001b[38;5;124m\"\u001b[39m)\n\u001b[0;32m      7\u001b[0m \u001b[38;5;28;01mwhile\u001b[39;00m \u001b[38;5;28;01mTrue\u001b[39;00m:\n\u001b[0;32m      8\u001b[0m     line \u001b[38;5;241m=\u001b[39m f\u001b[38;5;241m.\u001b[39mreadline()\n",
      "File \u001b[1;32m~\\anaconda3\\Lib\\site-packages\\IPython\\core\\interactiveshell.py:286\u001b[0m, in \u001b[0;36m_modified_open\u001b[1;34m(file, *args, **kwargs)\u001b[0m\n\u001b[0;32m    279\u001b[0m \u001b[38;5;28;01mif\u001b[39;00m file \u001b[38;5;129;01min\u001b[39;00m {\u001b[38;5;241m0\u001b[39m, \u001b[38;5;241m1\u001b[39m, \u001b[38;5;241m2\u001b[39m}:\n\u001b[0;32m    280\u001b[0m     \u001b[38;5;28;01mraise\u001b[39;00m \u001b[38;5;167;01mValueError\u001b[39;00m(\n\u001b[0;32m    281\u001b[0m         \u001b[38;5;124mf\u001b[39m\u001b[38;5;124m\"\u001b[39m\u001b[38;5;124mIPython won\u001b[39m\u001b[38;5;124m'\u001b[39m\u001b[38;5;124mt let you open fd=\u001b[39m\u001b[38;5;132;01m{\u001b[39;00mfile\u001b[38;5;132;01m}\u001b[39;00m\u001b[38;5;124m by default \u001b[39m\u001b[38;5;124m\"\u001b[39m\n\u001b[0;32m    282\u001b[0m         \u001b[38;5;124m\"\u001b[39m\u001b[38;5;124mas it is likely to crash IPython. If you know what you are doing, \u001b[39m\u001b[38;5;124m\"\u001b[39m\n\u001b[0;32m    283\u001b[0m         \u001b[38;5;124m\"\u001b[39m\u001b[38;5;124myou can use builtins\u001b[39m\u001b[38;5;124m'\u001b[39m\u001b[38;5;124m open.\u001b[39m\u001b[38;5;124m\"\u001b[39m\n\u001b[0;32m    284\u001b[0m     )\n\u001b[1;32m--> 286\u001b[0m \u001b[38;5;28;01mreturn\u001b[39;00m io_open(file, \u001b[38;5;241m*\u001b[39margs, \u001b[38;5;241m*\u001b[39m\u001b[38;5;241m*\u001b[39mkwargs)\n",
      "\u001b[1;31mFileNotFoundError\u001b[0m: [Errno 2] No such file or directory: 'Z:/Gary/Research/APlausE-MR_MR4_CollaborativeTelepresenceStudy/gazeAnalysis/group0/aplausemr_group0_date20240708_10_42_trial0_experimentcontroller_interval_requests_results.csv'"
     ]
    }
   ],
   "source": [
    "# read data into structures\n",
    "\n",
    "results = []\n",
    "\n",
    "f = open(file_path, \"r\")\n",
    "\n",
    "while True:\n",
    "    line = f.readline()\n",
    "    if not line:\n",
    "        break\n",
    "\n",
    "    if line.startswith(\"AnalysisQuery\"):\n",
    "        results.append(GazeIntervalResults(line))\n",
    "    elif line.startswith('StartTime') or not line.strip():\n",
    "        pass\n",
    "    else:\n",
    "        interval = line.split(',')\n",
    "        results[-1].add_interval(float(interval[0]), float(interval[1]))\n",
    "f.close()\n"
   ]
  },
  {
   "cell_type": "code",
   "execution_count": null,
   "id": "4c83b5f4",
   "metadata": {},
   "outputs": [],
   "source": [
    "cols = ['#EE204D', '#1CAC78', '#1F75FE', '#FCE883']\n",
    "\n",
    "# Function to visualize multiple GazeIntervalResults\n",
    "def plot_multiple_gaze_results(results_list):\n",
    "    fig, ax = plt.subplots(figsize=(10, len(results_list) * 1.5))\n",
    "    \n",
    "    # Plot each GazeIntervalResults on a different line\n",
    "    for idx, results in enumerate(results_list):\n",
    "        for interval in results.intervals:\n",
    "            ax.broken_barh([(interval.start, interval.end - interval.start)], (idx - 0.4, 0.8), facecolors=cols[int(results.gaze_target)])\n",
    "    y_labels = []\n",
    "    for results in results_list:\n",
    "        y_labels.append(\"Participant \" + str(results.gaze_target))\n",
    "    \n",
    "    # Customize the plot\n",
    "    ax.set_ylim(-1, len(results_list))\n",
    "    ax.set_xlim(0, max(interval.end for results in results_list for interval in results.intervals) + 1)\n",
    "    ax.set_xlabel('Time')\n",
    "    ax.set_yticks(range(len(results_list)))\n",
    "    ax.set_yticklabels(y_labels)\n",
    "    ax.grid(True)\n",
    "    \n",
    "    plt.title(\"Gaze Intervals for Multiple Participants\")\n",
    "    plt.show()\n",
    "    \n",
    "\n",
    "for p in range(1):\n",
    "    plot_multiple_gaze_results([r for r in results if r.gazer == p])"
   ]
  },
  {
   "cell_type": "code",
   "execution_count": null,
   "id": "d8626f61",
   "metadata": {},
   "outputs": [],
   "source": [
    "cols = ['#EE204D', '#1CAC78', '#1F75FE', '#FCE883']\n",
    "\n",
    "# Function to visualize multiple GazeIntervalResults with subplots for each gazer\n",
    "def plot_gazers_subplots(results_list):\n",
    "    # Group results by gazer\n",
    "    gazer_dict = {}\n",
    "    for results in results_list:\n",
    "        if results.gazer not in gazer_dict:\n",
    "            gazer_dict[results.gazer] = []\n",
    "        gazer_dict[results.gazer].append(results)\n",
    "    \n",
    "    # Create subplots\n",
    "    num_gazers = len(gazer_dict)\n",
    "    fig, axes = plt.subplots(num_gazers, 1, figsize=(10, num_gazers * 2), sharex=True)\n",
    "    \n",
    "    if num_gazers == 1:\n",
    "        axes = [axes]  # Ensure axes is iterable when there's only one subplot\n",
    "    \n",
    "    # Plot each gazer in a separate subplot\n",
    "    for ax, (gazer, results_group) in zip(axes, gazer_dict.items()):\n",
    "        for idx, results in enumerate(results_group):\n",
    "            for interval in results.intervals:\n",
    "                ax.broken_barh([(interval.start, interval.end - interval.start)], (idx - 0.4, 0.8),  facecolors=cols[int(results.gaze_target)])\n",
    "            # ax.text(-0.1, idx, f\"Target: {results.gaze_target}\", va='center', ha='right', transform=ax.get_yaxis_transform())\n",
    "        \n",
    "        # Customize each subplot\n",
    "        ax.set_ylim(-1, len(results_group))\n",
    "        ax.set_yticks(range(len(results_group)))\n",
    "        # ax.set_yticklabels([f\"Gaze {i+1}\" for i in range(len(results_group))])\n",
    "        ax.set_yticklabels([f\"Target: {results.gaze_target}\" for results in results_group])\n",
    "        ax.set_title(f\"Gazer: Participant{gazer}\")\n",
    "        ax.grid(True)\n",
    "    \n",
    "    # Set common labels and adjust layout\n",
    "    plt.xlabel('Time')\n",
    "    plt.tight_layout()\n",
    "    plt.savefig(\"cone_50deg.pdf\")\n",
    "    \n",
    "    plt.show()\n",
    "    \n",
    "    \n",
    "\n",
    "plot_gazers_subplots(results)\n",
    "\n"
   ]
  },
  {
   "cell_type": "code",
   "execution_count": null,
   "id": "46235b62",
   "metadata": {},
   "outputs": [],
   "source": []
  }
 ],
 "metadata": {
  "kernelspec": {
   "display_name": "Python 3 (ipykernel)",
   "language": "python",
   "name": "python3"
  },
  "language_info": {
   "codemirror_mode": {
    "name": "ipython",
    "version": 3
   },
   "file_extension": ".py",
   "mimetype": "text/x-python",
   "name": "python",
   "nbconvert_exporter": "python",
   "pygments_lexer": "ipython3",
   "version": "3.11.5"
  }
 },
 "nbformat": 4,
 "nbformat_minor": 5
}
