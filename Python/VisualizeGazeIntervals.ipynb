{
 "cells": [
  {
   "cell_type": "code",
   "execution_count": 1,
   "id": "f049f73b",
   "metadata": {},
   "outputs": [],
   "source": [
    "# This script visualizes the output of a gaze interval query\n",
    "\n",
    "# The purpose of gaze interval queries is to determine whether each particiant is looking at one of the other participants, \n",
    "# looking away, or transitioning between one of the other states"
   ]
  },
  {
   "cell_type": "code",
   "execution_count": 37,
   "id": "f62b14d8",
   "metadata": {},
   "outputs": [],
   "source": [
    "import re\n",
    "import matplotlib.pyplot as plt"
   ]
  },
  {
   "cell_type": "code",
   "execution_count": 9,
   "id": "42f50935",
   "metadata": {},
   "outputs": [],
   "source": [
    "#define location of data to visualize\n",
    "\n",
    "data_dir=\"C:/Users/gary4/Documents/repos/Recording-And-Analysis-Plugin/Data/group0\"\n",
    "file_name=\"aplausemr_group0_date20240708_10_42_trial0_experimentcontroller_interval_requests_results.csv\"\n",
    "\n",
    "file_path = data_dir + \"/\" + file_name"
   ]
  },
  {
   "cell_type": "code",
   "execution_count": 26,
   "id": "f4150862",
   "metadata": {},
   "outputs": [],
   "source": [
    "# define some data structures for reading data\n",
    "\n",
    "class Interval:\n",
    "    def __init__(self, start, end):\n",
    "        self.start = start\n",
    "        self.end = end\n",
    "    def str(self):\n",
    "        return str(self.start) + \",\" + str(self.end)\n",
    "        \n",
    "class GazeIntervalResults:\n",
    "    def __init__(self, desc):\n",
    "        self.intervals = []\n",
    "        \n",
    "        # find participant numbers for gazer and gaze target\n",
    "        participant_label_ends = [m.end() for m in re.finditer('Participant', desc)]\n",
    "        self.gazer = desc[participant_label_ends[0]]\n",
    "        self.gaze_target = desc[participant_label_ends[1]]\n",
    "        \n",
    "    def add_interval(self,start,end):\n",
    "        self.intervals.append(Interval(start,end))\n",
    "        \n",
    "    def print_intervals(self):\n",
    "        for i in self.intervals:\n",
    "            print(i.str())"
   ]
  },
  {
   "cell_type": "code",
   "execution_count": 39,
   "id": "45132531",
   "metadata": {},
   "outputs": [],
   "source": [
    "# read data into structures\n",
    "\n",
    "results = []\n",
    "\n",
    "f = open(file_path, \"r\")\n",
    "\n",
    "while True:\n",
    "    line = f.readline()\n",
    "    if not line:\n",
    "        break\n",
    "\n",
    "    if line.startswith(\"AnalysisQuery\"):\n",
    "        results.append(GazeIntervalResults(line))\n",
    "    elif line.startswith('StartTime') or not line.strip():\n",
    "        pass\n",
    "    else:\n",
    "        interval = line.split(',')\n",
    "        results[-1].add_interval(float(interval[0]), float(interval[1]))\n",
    "f.close()\n"
   ]
  },
  {
   "cell_type": "code",
   "execution_count": 54,
   "id": "4c83b5f4",
   "metadata": {},
   "outputs": [
    {
     "data": {
      "image/png": "[encoded data removed]",
      "text/plain": [
       "<Figure size 1000x450 with 1 Axes>"
      ]
     },
     "metadata": {},
     "output_type": "display_data"
    }
   ],
   "source": [
    "cols = ['#EE204D', '#1CAC78', '#1F75FE', '#FCE883']\n",
    "\n",
    "# Function to visualize multiple GazeIntervalResults\n",
    "def plot_multiple_gaze_results(results_list):\n",
    "    fig, ax = plt.subplots(figsize=(10, len(results_list) * 1.5))\n",
    "    \n",
    "    # Plot each GazeIntervalResults on a different line\n",
    "    for idx, results in enumerate(results_list):\n",
    "        for interval in results.intervals:\n",
    "            ax.broken_barh([(interval.start, interval.end - interval.start)], (idx - 0.4, 0.8), facecolors=cols[int(results.gaze_target)])\n",
    "#         ax.text(0, idx, f\"Gazer: {results.gazer}, Target: {results.gaze_target}\", va='center', ha='right')\n",
    "    \n",
    "    y_labels = []\n",
    "    for results in results_list:\n",
    "        y_labels.append(\"Participant \" + str(results.gaze_target))\n",
    "    \n",
    "    # Customize the plot\n",
    "    ax.set_ylim(-1, len(results_list))\n",
    "    ax.set_xlim(0, max(interval.end for results in results_list for interval in results.intervals) + 1)\n",
    "    ax.set_xlabel('Time')\n",
    "    ax.set_yticks(range(len(results_list)))\n",
    "    ax.set_yticklabels(y_labels)\n",
    "    ax.grid(True)\n",
    "    \n",
    "    plt.title(\"Gaze Intervals for Multiple Participants\")\n",
    "    plt.show()\n",
    "    \n",
    "plot_multiple_gaze_results(results)"
   ]
  },
  {
   "cell_type": "code",
   "execution_count": null,
   "id": "d8626f61",
   "metadata": {},
   "outputs": [],
   "source": []
  },
  {
   "cell_type": "code",
   "execution_count": null,
   "id": "46235b62",
   "metadata": {},
   "outputs": [],
   "source": []
  }
 ],
 "metadata": {
  "kernelspec": {
   "display_name": "Python 3 (ipykernel)",
   "language": "python",
   "name": "python3"
  },
  "language_info": {
   "codemirror_mode": {
    "name": "ipython",
    "version": 3
   },
   "file_extension": ".py",
   "mimetype": "text/x-python",
   "name": "python",
   "nbconvert_exporter": "python",
   "pygments_lexer": "ipython3",
   "version": "3.11.5"
  }
 },
 "nbformat": 4,
 "nbformat_minor": 5
}
