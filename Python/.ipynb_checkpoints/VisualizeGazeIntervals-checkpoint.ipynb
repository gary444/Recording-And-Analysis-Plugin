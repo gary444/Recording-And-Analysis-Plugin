{
 "cells": [
  {
   "cell_type": "code",
   "execution_count": 1,
   "id": "9e992e82",
   "metadata": {},
   "outputs": [],
   "source": [
    "# This script visualizes the output of a gaze interval query\n",
    "\n",
    "# The purpose of gaze interval queries is to determine whether each particiant is looking at one of the other participants, \n",
    "# looking away, or transitioning between one of the other states"
   ]
  },
  {
   "cell_type": "code",
   "execution_count": 2,
   "id": "87e66adb",
   "metadata": {},
   "outputs": [],
   "source": [
    "#define location of data to visualize\n",
    "\n",
    "data_dir=\"C:/Users/gary4/Documents/repos/Recording-And-Analysis-Plugin/Data/group0\"\n",
    "file_name=\"aplausemr_group0_date20240708_10_42_trial0_experimentcontroller_interval_requests_results.csv\"\n",
    "\n",
    "file_path = data_dir + \"/\" + file_name"
   ]
  },
  {
   "cell_type": "code",
   "execution_count": 3,
   "id": "4cfc5c6d",
   "metadata": {},
   "outputs": [],
   "source": [
    "# define some data structures for reading data\n",
    "\n",
    "class Interval:\n",
    "    def __init__(self, start, end):\n",
    "        self.start = start\n",
    "        self.end = end\n",
    "    def str(self):\n",
    "        return str(self.start) + \",\" + str(self.end)\n",
    "        \n",
    "class GazeIntervalResults:\n",
    "    def __init__(self, desc):\n",
    "        self.intervals = []\n",
    "        \n",
    "        # find participant numbers for gazer and gazee\n",
    "        print(re.finditer('Participant', 'desc'))\n",
    "        \n",
    "    def add_interval(self,start,end):\n",
    "        self.intervals.append(Interval(start,end))\n",
    "        \n",
    "    def print_intervals(self):\n",
    "        for i in self.intervals:\n",
    "            print(i.str())"
   ]
  },
  {
   "cell_type": "code",
   "execution_count": 5,
   "id": "5e484fa9",
   "metadata": {},
   "outputs": [
    {
     "name": "stdout",
     "output_type": "stream",
     "text": [
      "[<__main__.GazeIntervalResults object at 0x000002A609F5A810>, <__main__.GazeIntervalResults object at 0x000002A609FF7690>, <__main__.GazeIntervalResults object at 0x000002A609FF4C10>]\n"
     ]
    }
   ],
   "source": [
    "results = []\n",
    "\n",
    "\n",
    "f = open(file_path, \"r\")\n",
    "\n",
    "while True:\n",
    "    line = f.readline()\n",
    "    if not line:\n",
    "        break\n",
    "\n",
    "    if line.startswith(\"AnalysisQuery\"):\n",
    "        results.append(GazeIntervalResults(line))\n",
    "        \n",
    "f.close()\n",
    "\n",
    "print(results)\n"
   ]
  },
  {
   "cell_type": "code",
   "execution_count": null,
   "id": "d3543b2b",
   "metadata": {},
   "outputs": [],
   "source": []
  }
 ],
 "metadata": {
  "kernelspec": {
   "display_name": "Python 3 (ipykernel)",
   "language": "python",
   "name": "python3"
  },
  "language_info": {
   "codemirror_mode": {
    "name": "ipython",
    "version": 3
   },
   "file_extension": ".py",
   "mimetype": "text/x-python",
   "name": "python",
   "nbconvert_exporter": "python",
   "pygments_lexer": "ipython3",
   "version": "3.11.5"
  }
 },
 "nbformat": 4,
 "nbformat_minor": 5
}
