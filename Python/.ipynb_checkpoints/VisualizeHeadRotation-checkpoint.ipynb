{
 "cells": [
  {
   "cell_type": "code",
   "execution_count": 1,
   "id": "f049f73b",
   "metadata": {},
   "outputs": [],
   "source": [
    "# This script visualizes head rotation speed\n",
    "\n",
    "# The purpose is to help determine when participants are transitioning between gaze targets"
   ]
  },
  {
   "cell_type": "code",
   "execution_count": 2,
   "id": "f62b14d8",
   "metadata": {},
   "outputs": [],
   "source": [
    "import re\n",
    "import matplotlib.pyplot as plt"
   ]
  },
  {
   "cell_type": "code",
   "execution_count": 3,
   "id": "42f50935",
   "metadata": {},
   "outputs": [],
   "source": [
    "#define location of data to visualize\n",
    "\n",
    "# data_dir=\"C:/Users/gary4/Documents/repos/Recording-And-Analysis-Plugin/Data/group0\"\n",
    "data_dir=\"Z:/Gary/Research/APlausE-MR_MR4_CollaborativeTelepresenceStudy/gazeAnalysis\"\n",
    "data_dir=\"Z:/projection_cluster/builds/aplause-mr/UNITY_APP/aplause-mr-20240707-studystate-v1/gazeAnalysis\"\n",
    "file_name=\"aplausemr_group0_date20240708_10_42_trial0_experimentcontroller_quantitative_requests_results.csv\"\n",
    "\n",
    "file_path = data_dir + \"/\" + file_name"
   ]
  },
  {
   "cell_type": "code",
   "execution_count": 4,
   "id": "f4150862",
   "metadata": {},
   "outputs": [],
   "source": [
    "# define some data structures for reading data\n",
    "\n",
    "class HeadRotationResults:\n",
    "    def __init__(self, desc):\n",
    "        self.times = []\n",
    "        self.values = []\n",
    "        \n",
    "        # find participant ID for gazer\n",
    "        participant_label_ends = [m.end() for m in re.finditer('Participant', desc)]\n",
    "        self.gazer = int(desc[participant_label_ends[0]])\n",
    "        \n",
    "    def add_value(self,time,value):\n",
    "        self.times.append(time)\n",
    "        self.values.append(value)"
   ]
  },
  {
   "cell_type": "code",
   "execution_count": 5,
   "id": "45132531",
   "metadata": {},
   "outputs": [
    {
     "ename": "FileNotFoundError",
     "evalue": "[Errno 2] No such file or directory: 'Z:/Gary/Research/APlausE-MR_MR4_CollaborativeTelepresenceStudy/gazeAnalysis/aplausemr_group0_date20240708_10_42_trial0_experimentcontroller_quantitative_requests_results.csv'",
     "output_type": "error",
     "traceback": [
      "\u001b[1;31m---------------------------------------------------------------------------\u001b[0m",
      "\u001b[1;31mFileNotFoundError\u001b[0m                         Traceback (most recent call last)",
      "Cell \u001b[1;32mIn[5], line 5\u001b[0m\n\u001b[0;32m      1\u001b[0m \u001b[38;5;66;03m# read data into structures\u001b[39;00m\n\u001b[0;32m      3\u001b[0m results \u001b[38;5;241m=\u001b[39m []\n\u001b[1;32m----> 5\u001b[0m f \u001b[38;5;241m=\u001b[39m \u001b[38;5;28mopen\u001b[39m(file_path, \u001b[38;5;124m\"\u001b[39m\u001b[38;5;124mr\u001b[39m\u001b[38;5;124m\"\u001b[39m)\n\u001b[0;32m      7\u001b[0m \u001b[38;5;28;01mwhile\u001b[39;00m \u001b[38;5;28;01mTrue\u001b[39;00m:\n\u001b[0;32m      8\u001b[0m     line \u001b[38;5;241m=\u001b[39m f\u001b[38;5;241m.\u001b[39mreadline()\n",
      "File \u001b[1;32m~\\anaconda3\\Lib\\site-packages\\IPython\\core\\interactiveshell.py:286\u001b[0m, in \u001b[0;36m_modified_open\u001b[1;34m(file, *args, **kwargs)\u001b[0m\n\u001b[0;32m    279\u001b[0m \u001b[38;5;28;01mif\u001b[39;00m file \u001b[38;5;129;01min\u001b[39;00m {\u001b[38;5;241m0\u001b[39m, \u001b[38;5;241m1\u001b[39m, \u001b[38;5;241m2\u001b[39m}:\n\u001b[0;32m    280\u001b[0m     \u001b[38;5;28;01mraise\u001b[39;00m \u001b[38;5;167;01mValueError\u001b[39;00m(\n\u001b[0;32m    281\u001b[0m         \u001b[38;5;124mf\u001b[39m\u001b[38;5;124m\"\u001b[39m\u001b[38;5;124mIPython won\u001b[39m\u001b[38;5;124m'\u001b[39m\u001b[38;5;124mt let you open fd=\u001b[39m\u001b[38;5;132;01m{\u001b[39;00mfile\u001b[38;5;132;01m}\u001b[39;00m\u001b[38;5;124m by default \u001b[39m\u001b[38;5;124m\"\u001b[39m\n\u001b[0;32m    282\u001b[0m         \u001b[38;5;124m\"\u001b[39m\u001b[38;5;124mas it is likely to crash IPython. If you know what you are doing, \u001b[39m\u001b[38;5;124m\"\u001b[39m\n\u001b[0;32m    283\u001b[0m         \u001b[38;5;124m\"\u001b[39m\u001b[38;5;124myou can use builtins\u001b[39m\u001b[38;5;124m'\u001b[39m\u001b[38;5;124m open.\u001b[39m\u001b[38;5;124m\"\u001b[39m\n\u001b[0;32m    284\u001b[0m     )\n\u001b[1;32m--> 286\u001b[0m \u001b[38;5;28;01mreturn\u001b[39;00m io_open(file, \u001b[38;5;241m*\u001b[39margs, \u001b[38;5;241m*\u001b[39m\u001b[38;5;241m*\u001b[39mkwargs)\n",
      "\u001b[1;31mFileNotFoundError\u001b[0m: [Errno 2] No such file or directory: 'Z:/Gary/Research/APlausE-MR_MR4_CollaborativeTelepresenceStudy/gazeAnalysis/aplausemr_group0_date20240708_10_42_trial0_experimentcontroller_quantitative_requests_results.csv'"
     ]
    }
   ],
   "source": [
    "# read data into structures\n",
    "\n",
    "results = []\n",
    "\n",
    "f = open(file_path, \"r\")\n",
    "\n",
    "while True:\n",
    "    line = f.readline()\n",
    "    if not line:\n",
    "        break\n",
    "\n",
    "    if line.startswith(\"AnalysisQuery,RotationAnalysis\"):\n",
    "    # if line.startswith(\"AnalysisQuery,GazeAnalysis\"):\n",
    "        results.append(HeadRotationResults(line))\n",
    "    elif line.startswith('Time') or not line.strip():\n",
    "        pass\n",
    "    else:\n",
    "        if len(results) > 0:\n",
    "            line_values = line.split(',')\n",
    "            results[-1].add_value(float(line_values[0]), float(line_values[1]))\n",
    "f.close()\n"
   ]
  },
  {
   "cell_type": "code",
   "execution_count": null,
   "id": "4c83b5f4",
   "metadata": {},
   "outputs": [],
   "source": [
    "cols = ['#EE204D', '#1CAC78', '#1F75FE', '#FCE883']\n",
    "\n",
    "# Function to plot multiple HeadRotationResults on different line graphs\n",
    "def plot_head_rotation_results(results_list):\n",
    "    num_plots = len(results_list)\n",
    "    \n",
    "    # Create subplots\n",
    "    fig, axes = plt.subplots(num_plots, 1, figsize=(20, num_plots * 3), sharex=True)\n",
    "    \n",
    "    if num_plots == 1:\n",
    "        axes = [axes]  # Ensure axes is iterable when there's only one subplot\n",
    "\n",
    "    lines = 0\n",
    "    \n",
    "    # Plot each HeadRotationResults on a different line graph\n",
    "    for ax, results in zip(axes, results_list):\n",
    "        ax.plot(results.times, results.values, label=f'Participant {results.gazer}', color=cols[lines])\n",
    "\n",
    "        lines += 1\n",
    "        \n",
    "        # Customize each subplot\n",
    "        ax.set_title(f'Head Rotation for Participant {results.gazer}')\n",
    "        ax.set_ylabel('Rotation Value')\n",
    "        ax.legend()\n",
    "        ax.grid(True)\n",
    "    \n",
    "    # Set common x-label\n",
    "    plt.xlabel('Time')\n",
    "    \n",
    "    # Adjust layout to prevent overlap\n",
    "    plt.tight_layout()\n",
    "\n",
    "    plt.savefig(\"head_rotation_10hz.pdf\")\n",
    "    \n",
    "    # Show the plot\n",
    "    plt.show()\n",
    "\n",
    "plot_head_rotation_results(results)"
   ]
  },
  {
   "cell_type": "code",
   "execution_count": null,
   "id": "46235b62",
   "metadata": {},
   "outputs": [],
   "source": []
  }
 ],
 "metadata": {
  "kernelspec": {
   "display_name": "Python 3 (ipykernel)",
   "language": "python",
   "name": "python3"
  },
  "language_info": {
   "codemirror_mode": {
    "name": "ipython",
    "version": 3
   },
   "file_extension": ".py",
   "mimetype": "text/x-python",
   "name": "python",
   "nbconvert_exporter": "python",
   "pygments_lexer": "ipython3",
   "version": "3.11.5"
  }
 },
 "nbformat": 4,
 "nbformat_minor": 5
}
